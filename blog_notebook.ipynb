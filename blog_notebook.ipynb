{
 "cells": [
  {
   "cell_type": "markdown",
   "metadata": {},
   "source": [
    "# A notebook to accompany the blog \"Searching or Sorting a list of Objects Based on an Attribute in Python: When you want to find the Dog with the highest maximum tail wagging speed\""
   ]
  },
  {
   "cell_type": "code",
   "execution_count": 1,
   "metadata": {},
   "outputs": [],
   "source": [
    "# import necessary packages\n",
    "from operator import attrgetter, itemgetter, methodcaller\n",
    "import pandas as pd\n",
    "import random"
   ]
  },
  {
   "cell_type": "markdown",
   "metadata": {},
   "source": [
    "## Define class Name"
   ]
  },
  {
   "cell_type": "code",
   "execution_count": 2,
   "metadata": {},
   "outputs": [],
   "source": [
    "class Name():\n",
    "    def __init__(self, first):\n",
    "        self.first = first\n",
    "        self.last = 'GoodDog'\n",
    "    def __repr__(self):\n",
    "        return self.first"
   ]
  },
  {
   "cell_type": "markdown",
   "metadata": {},
   "source": [
    "## Define class Student"
   ]
  },
  {
   "cell_type": "code",
   "execution_count": 104,
   "metadata": {},
   "outputs": [],
   "source": [
    "class Student():\n",
    "    def __init__(self, name=None, yr=None):\n",
    "        self.name = Name(name[0].upper() + name[1:])\n",
    "        self.yr = yr\n",
    "        self.works_well_with = []\n",
    "        self.not_works_well_with = []\n",
    "        self.has_sat_by = []\n",
    "        self.has_not_sat_by = []\n",
    "        self.notes = []\n",
    "        self.strengths = []\n",
    "        self.areas_for_growth = []\n",
    "        \n",
    "    def __repr__(self):\n",
    "           return (f'{self.__class__.__name__}('\n",
    "                   f'{self.name!r}, {self.yr!r})')\n",
    "        \n",
    "    def add_works_well_with(self, other):\n",
    "        if other not in self.works_well_with:\n",
    "            self.works_well_with.append(other)\n",
    "        \n",
    "    def remove_works_well_with(self, other):\n",
    "        if other in self.works_well_with:\n",
    "            self.works_well_with.remove(other)\n",
    "        \n",
    "    def get_works_well_with(self):\n",
    "        return self.works_well_with\n",
    "    \n",
    "    def add_not_works_well_with(self, other):\n",
    "        if other not in self.not_works_well_with:\n",
    "            self.not_works_well_with.append(other)\n",
    "        \n",
    "    def remove_not_works_well_with(self, other):\n",
    "        if other in self.not_works_well_with:\n",
    "            self.not_works_well_with.remove(other)\n",
    "        \n",
    "    def get_not_works_well_with(self):\n",
    "        return self.not_works_well_with\n",
    "        \n",
    "    def set_yr(self, yr):\n",
    "        self.yr = yr\n",
    "        \n",
    "    def add_has_sat_by(self, others):\n",
    "        for other in others:\n",
    "            self.has_sat_by.append(other)\n",
    "            if other in self.has_not_sat_by:\n",
    "                self.has_not_sat_by.remove(other)\n",
    "                \n",
    "    def get_has_sat_by(self):\n",
    "        return self.has_sat_by\n",
    "    \n",
    "    def get_has_not_sat_by(self):\n",
    "        return self.has_not_sat_by\n",
    "    \n",
    "    def add_note(self, note):\n",
    "        self.notes.append(note)\n",
    "        \n",
    "    def get_notes(self):\n",
    "        return self.notes\n",
    "    \n",
    "    def add_strength(self, strength):\n",
    "        self.strengths.append(strength)\n",
    "        \n",
    "    def get_strengths(self):\n",
    "        return self.strengths\n",
    "    \n",
    "    def add_area_for_growth(self, area):\n",
    "        self.areas_for_growth.append(area)\n",
    "        \n",
    "    def get_areas_for_growth(self):\n",
    "        return self.areas_for_growth\n",
    "    \n",
    "    def get_n_works_well(self):\n",
    "        return len(set(self.works_well_with))\n",
    "    \n",
    "    def get_n_not_works_well(self):\n",
    "        return len(set(self.not_works_well_with))\n",
    "    \n",
    "    def get_area_for_growth(self, n):\n",
    "        \"\"\"Returns the area for growth at index n. If outside of range, \n",
    "        returns string 'no area for growth number {n} yet' \n",
    "        \"\"\"\n",
    "        if len(self.areas_for_growth) > n:\n",
    "            return self.areas_for_growth[n]\n",
    "        else: return f\"no areas for growth number {n} yet\"\n",
    "        \n",
    "    def get_name(self):\n",
    "        return self.name"
   ]
  },
  {
   "cell_type": "markdown",
   "metadata": {},
   "source": [
    "## Make up dog pack and add interactions"
   ]
  },
  {
   "cell_type": "code",
   "execution_count": 105,
   "metadata": {},
   "outputs": [],
   "source": [
    "# making up some data\n",
    "pets_df = pd.read_csv('data/seattle_pet_liscences.csv')\n",
    "names = list(set([random.choice(pets_df[\"Animal's Name\"]) for _ in range(130)]))\n",
    "ages = [random.randint(0, 15) for _ in range(100)]"
   ]
  },
  {
   "cell_type": "code",
   "execution_count": 106,
   "metadata": {},
   "outputs": [],
   "source": [
    "# initialize pack, four-legged students and add dog students to pack\n",
    "dog_pack = [Student(name=str(name), yr=yr) for name, yr in zip(names[:100], ages)]"
   ]
  },
  {
   "cell_type": "code",
   "execution_count": 107,
   "metadata": {},
   "outputs": [],
   "source": [
    "# add random data to my pack\n",
    "strengths = ['plays well', 'comes when called', 'fetch', 'leave it', 'snuggly',\n",
    "            'ignores food on the sidewalk']\n",
    "areas_for_growth = ['resource guarding', 'separation', 'demanding play', 'staring', \n",
    "                  'playing with others', 'barking', 'fetch', 'leave it']\n",
    "\n",
    "\n",
    "for _ in range(1000):\n",
    "    dog1 = dog_pack[random.randint(0, 99)]\n",
    "    dog2 = dog_pack[random.randint(0, 99)]\n",
    "    if dog1 != dog2:\n",
    "        works_well = bool(random.getrandbits(1))\n",
    "        if works_well:\n",
    "            dog1.add_works_well_with(dog2)\n",
    "            dog1.remove_not_works_well_with(dog2)\n",
    "            dog2.add_works_well_with(dog1)\n",
    "            dog2.remove_not_works_well_with(dog1)\n",
    "        else:\n",
    "            dog1.remove_works_well_with(dog2)\n",
    "            dog1.add_not_works_well_with(dog2)\n",
    "            dog2.remove_works_well_with(dog1)\n",
    "            dog2.add_not_works_well_with(dog1)\n",
    "            \n",
    "for _ in range(1000):\n",
    "    dog1 = dog_pack[random.randint(0, 99)]\n",
    "    dog2 = dog_pack[random.randint(0, 99)]\n",
    "    if dog1 != dog2:\n",
    "        dog1.add_has_sat_by([dog2])\n",
    "        dog2.add_has_sat_by([dog1])\n",
    "        \n",
    "for _ in range(300):\n",
    "    dog = dog_pack[random.randint(0, 99)]\n",
    "    strength = random.choice(strengths)\n",
    "    dog.add_strength(strength)\n",
    "    \n",
    "for _ in range(300):\n",
    "    dog = dog_pack[random.randint(0, 99)]\n",
    "    area_for_growth = random.choice(areas_for_growth)\n",
    "    dog.add_area_for_growth(area_for_growth) "
   ]
  },
  {
   "cell_type": "markdown",
   "metadata": {},
   "source": [
    "## playing with attrgetter\n",
    "* the attribute name is in quotes\n"
   ]
  },
  {
   "cell_type": "code",
   "execution_count": 108,
   "metadata": {},
   "outputs": [
    {
     "name": "stdout",
     "output_type": "stream",
     "text": [
      "[Student(Sandy, 2), Student(Marzipan, 11), Student(Hawkeye, 11), Student(Andy Pants, 14), Student(Elfie, 5), Student(Nugget, 5), Student(Zeva, 6), Student(Zephyr, 3), Student(Catai Delenn, 11), Student(Gracie, 12)]\n"
     ]
    }
   ],
   "source": [
    "friend_getter = attrgetter('works_well_with')\n",
    "print(friend_getter(dog_pack[1]))"
   ]
  },
  {
   "cell_type": "code",
   "execution_count": 109,
   "metadata": {},
   "outputs": [],
   "source": [
    "dogs_sorted_name = sorted(dog_pack, key=attrgetter('name.first'))"
   ]
  },
  {
   "cell_type": "code",
   "execution_count": 110,
   "metadata": {},
   "outputs": [
    {
     "data": {
      "text/plain": [
       "[Abbey, Akira, Andy Pants, Baloo, Barkley]"
      ]
     },
     "execution_count": 110,
     "metadata": {},
     "output_type": "execute_result"
    }
   ],
   "source": [
    "[d.name for d in dogs_sorted_name][0:5]"
   ]
  },
  {
   "cell_type": "code",
   "execution_count": 111,
   "metadata": {},
   "outputs": [],
   "source": [
    "dogs_sorted_age = sorted(dog_pack, key=attrgetter('yr'))"
   ]
  },
  {
   "cell_type": "code",
   "execution_count": 112,
   "metadata": {},
   "outputs": [
    {
     "data": {
      "text/plain": [
       "[0, 0, 0, 0, 0]"
      ]
     },
     "execution_count": 112,
     "metadata": {},
     "output_type": "execute_result"
    }
   ],
   "source": [
    "[d.yr for d in dogs_sorted_age][0:5]"
   ]
  },
  {
   "cell_type": "markdown",
   "metadata": {},
   "source": [
    " "
   ]
  },
  {
   "cell_type": "code",
   "execution_count": 113,
   "metadata": {},
   "outputs": [
    {
     "data": {
      "text/plain": [
       "['Abbey', 'Akira', 'Andy Pants', 'Baloo', 'Barkley']"
      ]
     },
     "execution_count": 113,
     "metadata": {},
     "output_type": "execute_result"
    }
   ],
   "source": [
    "[d.name.first for d in sorted(dog_pack, key = lambda x: x.name.first)[0:5]]"
   ]
  },
  {
   "cell_type": "markdown",
   "metadata": {},
   "source": [
    "I'm not sure why/when you would want to use both attrgetter and a lambda function: maybe it's faster?\n",
    "\n",
    "attrgetter(\"attribute\")(object_w_attribute) returns the attribute.\n",
    "\n",
    "Here you can adjust the attributes before comparison, if you want/need.\n",
    "\n",
    "Still not sure why you wouldn't just use the lambda version"
   ]
  },
  {
   "cell_type": "code",
   "execution_count": 114,
   "metadata": {},
   "outputs": [
    {
     "data": {
      "text/plain": [
       "[Abbey, Akira, Andy Pants, Baloo, Barkley]"
      ]
     },
     "execution_count": 114,
     "metadata": {},
     "output_type": "execute_result"
    }
   ],
   "source": [
    "[d.name for d in sorted(dog_pack, key = lambda x: attrgetter(\"name.first\")(x).lower())[0:5]]"
   ]
  },
  {
   "cell_type": "code",
   "execution_count": 115,
   "metadata": {},
   "outputs": [
    {
     "data": {
      "text/plain": [
       "'Sparky'"
      ]
     },
     "execution_count": 115,
     "metadata": {},
     "output_type": "execute_result"
    }
   ],
   "source": [
    "attrgetter(\"name.first\")(dog_pack[30])"
   ]
  },
  {
   "cell_type": "code",
   "execution_count": 116,
   "metadata": {
    "scrolled": true
   },
   "outputs": [
    {
     "data": {
      "text/plain": [
       "[Abbey, Akira, Andy Pants, Baloo, Barkley]"
      ]
     },
     "execution_count": 116,
     "metadata": {},
     "output_type": "execute_result"
    }
   ],
   "source": [
    "[d.name for d in sorted(dog_pack, key = lambda x: x.name.first.lower())[0:5]]"
   ]
  },
  {
   "cell_type": "markdown",
   "metadata": {},
   "source": [
    "One way to sort \"deeper\" in the object:"
   ]
  },
  {
   "cell_type": "code",
   "execution_count": 117,
   "metadata": {},
   "outputs": [
    {
     "data": {
      "text/plain": [
       "[Rupert, Rory, Hans, Abbey, Monty]"
      ]
     },
     "execution_count": 117,
     "metadata": {},
     "output_type": "execute_result"
    }
   ],
   "source": [
    "# if every object has at least 1 strength\n",
    "[d.name for d in sorted(dog_pack[10:15], key = lambda x: attrgetter(\"strengths\")(x)[0])]"
   ]
  },
  {
   "cell_type": "code",
   "execution_count": 193,
   "metadata": {},
   "outputs": [
    {
     "data": {
      "text/plain": [
       "[Brandy, Na-Ri, Watson, Mooch, Pigpen]"
      ]
     },
     "execution_count": 193,
     "metadata": {},
     "output_type": "execute_result"
    }
   ],
   "source": [
    "# awkward removal of dogs who have no strengths :(\n",
    "[d.name for d in sorted([d for d in dog_pack if len(d.strengths)>0], key = lambda x: x.strengths[0])][0:5]"
   ]
  },
  {
   "cell_type": "code",
   "execution_count": 119,
   "metadata": {},
   "outputs": [
    {
     "data": {
      "text/plain": [
       "[Brandy, Na-Ri, Watson, Mooch, Pigpen]"
      ]
     },
     "execution_count": 119,
     "metadata": {},
     "output_type": "execute_result"
    }
   ],
   "source": [
    "# alternatively\n",
    "dogs_with_strengths = [d for d in dog_pack if len(d.strengths) > 0]\n",
    "[d.name for d in sorted(dogs_with_strengths, key = lambda x: x.strengths[0])][0:5]"
   ]
  },
  {
   "cell_type": "markdown",
   "metadata": {},
   "source": [
    "## THE GOOD STUFF: get info about the dogs"
   ]
  },
  {
   "cell_type": "code",
   "execution_count": 120,
   "metadata": {},
   "outputs": [
    {
     "data": {
      "text/plain": [
       "[(Beckett, 0),\n",
       " (Groucho, 0),\n",
       " (Lucy, 0),\n",
       " (Norman, 0),\n",
       " (Pringles, 0),\n",
       " (Rory, 0),\n",
       " (Sadie, 0),\n",
       " (Tikka, 0),\n",
       " (Willow, 0),\n",
       " (Zeke, 0)]"
      ]
     },
     "execution_count": 120,
     "metadata": {},
     "output_type": "execute_result"
    }
   ],
   "source": [
    "# multiple levels of sorting\n",
    "[(d.name, d.yr) for d in sorted(dog_pack, key=attrgetter(\"yr\", \"name.first\"))][:10]"
   ]
  },
  {
   "cell_type": "code",
   "execution_count": 121,
   "metadata": {},
   "outputs": [
    {
     "data": {
      "text/plain": [
       "[(Whiskers, 15),\n",
       " (Stella, 15),\n",
       " (Radar, 15),\n",
       " (Pinot, 15),\n",
       " (Lucci, 15),\n",
       " (Leona Mae Alcott Helmsley Cole, 15),\n",
       " (Abbey, 15),\n",
       " (Sasha, 14),\n",
       " (Missy, 14),\n",
       " (Millie, 14)]"
      ]
     },
     "execution_count": 121,
     "metadata": {},
     "output_type": "execute_result"
    }
   ],
   "source": [
    "[(d.name, d.yr) for d in sorted(dog_pack, key=attrgetter(\"yr\", \"name.first\"), reverse=True)][:10]"
   ]
  },
  {
   "cell_type": "markdown",
   "metadata": {},
   "source": [
    "### Oldest dog"
   ]
  },
  {
   "cell_type": "code",
   "execution_count": 156,
   "metadata": {},
   "outputs": [
    {
     "name": "stdout",
     "output_type": "stream",
     "text": [
      "Oldest Dog\n",
      "name: Abbey\n",
      "age: 15\n",
      "Strengths: ['snuggly', 'snuggly', 'plays well', 'fetch']\n"
     ]
    }
   ],
   "source": [
    "# to get the object with the characteristic (max yr)\n",
    "oldest = max(dog_pack, key=attrgetter(\"yr\"))\n",
    "print(f\"Oldest Dog\\nname: {oldest.name}\\nage: {oldest.yr}\\nStrengths: {oldest.strengths}\")"
   ]
  },
  {
   "cell_type": "code",
   "execution_count": 123,
   "metadata": {},
   "outputs": [
    {
     "data": {
      "text/plain": [
       "15"
      ]
     },
     "execution_count": 123,
     "metadata": {},
     "output_type": "execute_result"
    }
   ],
   "source": [
    "# if you just want the year, and don't want the object\n",
    "max(dog.yr for dog in dog_pack)"
   ]
  },
  {
   "cell_type": "code",
   "execution_count": 164,
   "metadata": {},
   "outputs": [
    {
     "data": {
      "text/plain": [
       "[Student(Abbey, 15),\n",
       " Student(Radar, 15),\n",
       " Student(Pinot, 15),\n",
       " Student(Lucci, 15),\n",
       " Student(Leona Mae Alcott Helmsley Cole, 15),\n",
       " Student(Stella, 15),\n",
       " Student(Whiskers, 15)]"
      ]
     },
     "execution_count": 164,
     "metadata": {},
     "output_type": "execute_result"
    }
   ],
   "source": [
    "[d for d in dog_pack if d.yr == max(d.yr for d in dog_pack)]"
   ]
  },
  {
   "cell_type": "markdown",
   "metadata": {},
   "source": [
    "## Methodcaller\n",
    "### Works well with the fewest dogs\n",
    "Here we're going to use methodgetter to utilize the Student.get_n_works_well method"
   ]
  },
  {
   "cell_type": "code",
   "execution_count": 170,
   "metadata": {},
   "outputs": [
    {
     "name": "stdout",
     "output_type": "stream",
     "text": [
      "Works Well With The Fewest Dogs\n",
      "name: Pringles\n",
      "works well with: 4 dogs\n",
      "strengths: ['leave it', 'leave it', 'snuggly', 'comes when called', 'comes when called']\n",
      "areas for growth: ['playing with others', 'playing with others']\n"
     ]
    }
   ],
   "source": [
    "min_works_well = min(dog_pack, key=methodcaller('get_n_works_well'))\n",
    "print(f\"\"\"Works Well With The Fewest Dogs\n",
    "name: {min_works_well.name}\n",
    "works well with: {min_works_well.get_n_works_well()} dogs\n",
    "strengths: {min_works_well.strengths}\n",
    "areas for growth: {min_works_well.areas_for_growth}\"\"\")"
   ]
  },
  {
   "cell_type": "markdown",
   "metadata": {},
   "source": [
    "## Digging into 2nd level\n",
    "1) use a class as the attribute with attrgetter \n",
    "\n",
    "2) use a method with methodcaller\n",
    "\n",
    "3) use a lambda or defined function"
   ]
  },
  {
   "cell_type": "code",
   "execution_count": 133,
   "metadata": {},
   "outputs": [
    {
     "data": {
      "text/plain": [
       "[(Beckett, 0),\n",
       " (Groucho, 0),\n",
       " (Lucy, 0),\n",
       " (Norman, 0),\n",
       " (Pringles, 0),\n",
       " (Rory, 0),\n",
       " (Sadie, 0),\n",
       " (Tikka, 0),\n",
       " (Willow, 0),\n",
       " (Zeke, 0)]"
      ]
     },
     "execution_count": 133,
     "metadata": {},
     "output_type": "execute_result"
    }
   ],
   "source": [
    "# method 1 - attrgetter\n",
    "\n",
    "[(d.name, d.yr) for d in sorted(dog_pack, key=attrgetter(\"yr\", \"name.first\"))][:10]"
   ]
  },
  {
   "cell_type": "code",
   "execution_count": 135,
   "metadata": {},
   "outputs": [
    {
     "data": {
      "text/plain": [
       "[(Beckett, 'barking'),\n",
       " (Nicky, 'barking'),\n",
       " (Rupert, 'barking'),\n",
       " (Andy Pants, 'barking'),\n",
       " (Baloo, 'barking'),\n",
       " (Viatrix Spook Noodle, 'barking'),\n",
       " (Fitz, 'barking'),\n",
       " (Ranger, 'barking'),\n",
       " (Elfie, 'barking'),\n",
       " (Leo, 'barking')]"
      ]
     },
     "execution_count": 135,
     "metadata": {},
     "output_type": "execute_result"
    }
   ],
   "source": [
    "# method 2 - methodcaller\n",
    "\n",
    "growth_sorted = sorted(dog_pack, \n",
    "                       key=methodcaller(\"get_area_for_growth\", 0))\n",
    "[(d.name, d.get_area_for_growth(0)) for d in growth_sorted][:10]"
   ]
  },
  {
   "cell_type": "code",
   "execution_count": 141,
   "metadata": {},
   "outputs": [
    {
     "data": {
      "text/plain": [
       "[(Andy Pants, 'barking'),\n",
       " (Baloo, 'barking'),\n",
       " (Beckett, 'barking'),\n",
       " (Elfie, 'barking'),\n",
       " (Fitz, 'barking'),\n",
       " (Hippo!!, 'barking'),\n",
       " (Leo, 'barking'),\n",
       " (Macy, 'barking'),\n",
       " (Nicky, 'barking'),\n",
       " (Ranger, 'barking')]"
      ]
     },
     "execution_count": 141,
     "metadata": {},
     "output_type": "execute_result"
    }
   ],
   "source": [
    "# method 3 - lambda\n",
    "\n",
    "growth_name_sorted = sorted(dog_pack, key=lambda x: \n",
    "                                      (x.get_area_for_growth(0),\n",
    "                                       x.name.first))\n",
    "[(d.name, d.get_area_for_growth(0)) for d in growth_name_sorted][:10]"
   ]
  },
  {
   "cell_type": "code",
   "execution_count": 143,
   "metadata": {
    "scrolled": true
   },
   "outputs": [
    {
     "data": {
      "text/plain": [
       "[(Andy Pants, 'barking'),\n",
       " (Baloo, 'barking'),\n",
       " (Beckett, 'barking'),\n",
       " (Elfie, 'barking'),\n",
       " (Fitz, 'barking'),\n",
       " (Hippo!!, 'barking'),\n",
       " (Leo, 'barking'),\n",
       " (Macy, 'barking'),\n",
       " (Nicky, 'barking'),\n",
       " (Ranger, 'barking')]"
      ]
     },
     "execution_count": 143,
     "metadata": {},
     "output_type": "execute_result"
    }
   ],
   "source": [
    "# method 3 - defined function (equivalent to the lambda function above)\n",
    "def first_growth_first_name(x):\n",
    "    \"Returns the first area for growth and first name of Dog x\"\n",
    "    first_growth = x.get_area_for_growth(0)\n",
    "    first_name = x.name.first\n",
    "    return (first_growth, first_name)\n",
    "\n",
    "\n",
    "growth_name_sorted = sorted(dog_pack, key=first_growth_first_name)\n",
    "[(d.name, d.get_area_for_growth(0)) for d in growth_name_sorted][:10]"
   ]
  },
  {
   "cell_type": "code",
   "execution_count": 151,
   "metadata": {},
   "outputs": [
    {
     "data": {
      "text/plain": [
       "[Student(Tito, 11),\n",
       " Student(Nicky, 3),\n",
       " Student(Beckett, 0),\n",
       " Student(Groucho, 0),\n",
       " Student(Katness, 7)]"
      ]
     },
     "execution_count": 151,
     "metadata": {},
     "output_type": "execute_result"
    }
   ],
   "source": [
    "# method 4 - combine attrgetter and lambda(or defined) funtion. \n",
    "# This does not work if any dogs have no strengths. So the method version is better here\n",
    "# also, this is pretty convoluted, maybe slightly faster?\n",
    "\n",
    "sorted(dog_pack[0:5], key = lambda x: attrgetter(\"strengths\")(x)[0])"
   ]
  },
  {
   "cell_type": "markdown",
   "metadata": {},
   "source": [
    "## attrgetter vs itemgetter\n",
    "* itemgetter works on dictionaries/iterables with getitem()\n",
    "* attrgetter works on objects"
   ]
  },
  {
   "cell_type": "code",
   "execution_count": 182,
   "metadata": {},
   "outputs": [],
   "source": [
    "dogs_dict_list = [{'name': 'Bella',\n",
    "         'yr': 5,\n",
    "         'strengths': ['ignores food on the sidewalk',\n",
    "                      'ignores food on the sidewalk',\n",
    "                      'comes when called'],\n",
    "         'areas_for_growth': ['playing with others',\n",
    "                          'barking',\n",
    "                          'barking',\n",
    "                          'playing with others',\n",
    "                          'separation'],\n",
    "         'n_works_well': 6,\n",
    "         'n_not_works': 12},\n",
    "        \n",
    "        {'name': 'Dollie',\n",
    "         'yr': 12,\n",
    "         'strengths': ['plays well', 'ignores food on the sidewalk'],\n",
    "         'areas_for_growth': ['resource guarding', 'leave it', 'demands play'],\n",
    "         'n_works_well': 8,\n",
    "         'n_not_works': 9}\n",
    "       ]"
   ]
  },
  {
   "cell_type": "code",
   "execution_count": 183,
   "metadata": {},
   "outputs": [
    {
     "name": "stdout",
     "output_type": "stream",
     "text": [
      "Oldest dog\n",
      "name: Dollie\n",
      "strengths: ['plays well', 'ignores food on the sidewalk']\n"
     ]
    }
   ],
   "source": [
    "oldest = max(dogs_dict_list, key=itemgetter('yr'))\n",
    "print(f\"Oldest dog\\nname: {oldest['name']}\\nstrengths: {oldest['strengths']}\")"
   ]
  },
  {
   "cell_type": "code",
   "execution_count": 184,
   "metadata": {},
   "outputs": [
    {
     "data": {
      "text/plain": [
       "12"
      ]
     },
     "execution_count": 184,
     "metadata": {},
     "output_type": "execute_result"
    }
   ],
   "source": [
    "# to return the value\n",
    "max(dogs_dict_list, key=itemgetter('yr'))['yr']\n",
    "\n",
    "# or\n",
    "max(d['yr'] for d in dogs_dict_list)"
   ]
  },
  {
   "cell_type": "code",
   "execution_count": 185,
   "metadata": {},
   "outputs": [
    {
     "data": {
      "text/plain": [
       "{'name': 'Dollie',\n",
       " 'yr': 12,\n",
       " 'strengths': ['plays well', 'ignores food on the sidewalk'],\n",
       " 'areas_for_growth': ['resource guarding', 'leave it', 'demands play'],\n",
       " 'n_works_well': 8,\n",
       " 'n_not_works': 9}"
      ]
     },
     "execution_count": 185,
     "metadata": {},
     "output_type": "execute_result"
    }
   ],
   "source": [
    "# to sort more deeply in the dictionary\n",
    "\n",
    "max(dogs_dict_list, key=itemgetter('name', 'strengths'))"
   ]
  },
  {
   "cell_type": "code",
   "execution_count": 172,
   "metadata": {},
   "outputs": [],
   "source": [
    "dogs_tups = [('Bella', 5, 'labrador', 'yellow'), ('Dollie', 12, 'austrailian sheppard', 'cream, brown')]"
   ]
  },
  {
   "cell_type": "code",
   "execution_count": 173,
   "metadata": {
    "scrolled": true
   },
   "outputs": [
    {
     "name": "stdout",
     "output_type": "stream",
     "text": [
      "Youngest Dog:\n",
      "name: Bella\n",
      "breed: labrador\n"
     ]
    }
   ],
   "source": [
    "youngest = min(dogs_tups, key=itemgetter(1))\n",
    "print(f\"Youngest Dog:\\nname: {youngest[0]}\\nbreed: {youngest[2]}\")"
   ]
  },
  {
   "cell_type": "markdown",
   "metadata": {},
   "source": [
    "## When to use a lambda function or comprehension instead\n",
    "\n",
    "* when you want/need to maniuplate the attribute before sorting (if your dog names are mixed upper and lower)\n",
    "\n",
    "otherwise, attrgetter is faster"
   ]
  },
  {
   "cell_type": "code",
   "execution_count": 187,
   "metadata": {},
   "outputs": [
    {
     "data": {
      "text/plain": [
       "[Abbey, Akira, Andy Pants, Baloo, Barkley]"
      ]
     },
     "execution_count": 187,
     "metadata": {},
     "output_type": "execute_result"
    }
   ],
   "source": [
    "[d.name for d in sorted(dog_pack, key=lambda x: x.name.first.lower())][0:5]"
   ]
  },
  {
   "cell_type": "code",
   "execution_count": 188,
   "metadata": {},
   "outputs": [
    {
     "data": {
      "text/plain": [
       "[Student(Abbey, 15), Student(Andy Pants, 14), Student(Akira, 1)]"
      ]
     },
     "execution_count": 188,
     "metadata": {},
     "output_type": "execute_result"
    }
   ],
   "source": [
    "[d for d in dog_pack if d.name.first.lower() < 'b']"
   ]
  },
  {
   "cell_type": "markdown",
   "metadata": {},
   "source": [
    "## Methodcaller"
   ]
  },
  {
   "cell_type": "code",
   "execution_count": 189,
   "metadata": {},
   "outputs": [
    {
     "data": {
      "text/plain": [
       "[Pringles, Lucci, Rooney, Mocha, Baloo]"
      ]
     },
     "execution_count": 189,
     "metadata": {},
     "output_type": "execute_result"
    }
   ],
   "source": [
    "[d.name for d in sorted(dog_pack, key=methodcaller('get_n_works_well'))[0:5]]"
   ]
  },
  {
   "cell_type": "code",
   "execution_count": null,
   "metadata": {},
   "outputs": [],
   "source": []
  }
 ],
 "metadata": {
  "kernelspec": {
   "display_name": "Python 3 (learn-env)",
   "language": "python",
   "name": "learn-env"
  },
  "language_info": {
   "codemirror_mode": {
    "name": "ipython",
    "version": 3
   },
   "file_extension": ".py",
   "mimetype": "text/x-python",
   "name": "python",
   "nbconvert_exporter": "python",
   "pygments_lexer": "ipython3",
   "version": "3.6.6"
  }
 },
 "nbformat": 4,
 "nbformat_minor": 2
}
